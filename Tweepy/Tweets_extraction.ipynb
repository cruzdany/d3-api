{
 "cells": [
  {
   "cell_type": "code",
   "execution_count": 5,
   "metadata": {},
   "outputs": [],
   "source": [
    "# Extracting streaming data from Twitter, pre-processing, and loading into MySQL\n",
    "import credentials # Import api/access_token keys from credentials.py\n",
    "import settings # Import related setting constants from settings.py \n",
    "import re\n",
    "import tweepy\n",
    "import mysql.connector #To connect to mysql\n",
    "import pandas as pd\n",
    "from textblob import TextBlob"
   ]
  },
  {
   "cell_type": "code",
   "execution_count": 6,
   "metadata": {},
   "outputs": [],
   "source": [
    "class MyStreamListener(tweepy.StreamListener): #Class for streaming\n",
    "    \n",
    "    def on_status(self, status): #Extract tweets text\n",
    "        \n",
    "        if status.retweeted:\n",
    "            # Avoid retweeted info, and only original tweets will be received\n",
    "            return True\n",
    "        # Extract attributes from each tweet\n",
    "        id_str = status.id_str\n",
    "        created_at = status.created_at\n",
    "        text = deEmojify(status.text)    # Pre-processing the text  \n",
    "        sentiment = TextBlob(text).sentiment\n",
    "        polarity = sentiment.polarity\n",
    "        subjectivity = sentiment.subjectivity\n",
    "        \n",
    "        user_created_at = status.user.created_at\n",
    "        user_location = deEmojify(status.user.location)\n",
    "        user_description = deEmojify(status.user.description)\n",
    "        user_followers_count =status.user.followers_count\n",
    "        longitude = None\n",
    "        latitude = None\n",
    "        if status.coordinates:\n",
    "            longitude = status.coordinates['coordinates'][0]\n",
    "            latitude = status.coordinates['coordinates'][1]\n",
    "            \n",
    "        retweet_count = status.retweet_count\n",
    "        favorite_count = status.favorite_count\n",
    "        \n",
    "        print(status.text)\n",
    "        print(\"Long: {}, Lati: {}\".format(longitude, latitude))\n",
    "        \n",
    "        # Store all data in MySQL\n",
    "        if mydb.is_connected():\n",
    "            mycursor = mydb.cursor()\n",
    "            sql = \"INSERT INTO {} (id_str, created_at, text, polarity, subjectivity, user_created_at, user_location, user_description, user_followers_count, longitude, latitude, retweet_count, favorite_count) VALUES (%s, %s, %s, %s, %s, %s, %s, %s, %s, %s, %s, %s, %s)\".format(settings.TABLE_NAME)\n",
    "            val = (id_str, created_at, text, polarity, subjectivity, user_created_at, user_location, \\\n",
    "                user_description, user_followers_count, longitude, latitude, retweet_count, favorite_count)\n",
    "            mycursor.execute(sql, val)\n",
    "            mydb.commit()\n",
    "            mycursor.close()\n",
    "    \n",
    "    \n",
    "    def on_error(self, status_code):\n",
    "        #Since Twitter API has rate limits, stop srcraping data as it exceed to the thresold.\n",
    "        \n",
    "        if status_code == 420:\n",
    "            # return False to disconnect the stream\n",
    "            return False"
   ]
  },
  {
   "cell_type": "code",
   "execution_count": 7,
   "metadata": {},
   "outputs": [],
   "source": [
    "def clean_tweet(self, tweet): \n",
    "    #Use sumple regex statemnents to clean tweet text by removing links and special characters\n",
    "\n",
    "    return ' '.join(re.sub(\"(@[A-Za-z0-9]+)|([^0-9A-Za-z \\t]) \\\n",
    "                                |(\\w+:\\/\\/\\S+)\", \" \", tweet).split()) \n",
    "def deEmojify(text):\n",
    "    #Strip all non-ASCII characters to remove emoji characters\n",
    "\n",
    "    if text:\n",
    "        return text.encode('ascii', 'ignore').decode('ascii')\n",
    "    else:\n",
    "        return None"
   ]
  },
  {
   "cell_type": "code",
   "execution_count": null,
   "metadata": {},
   "outputs": [],
   "source": [
    "mydb = mysql.connector.connect(\n",
    "    host=\"localhost\", #127.0.0.1\n",
    "    user=\"user\",\n",
    "    passwd=\"password\",\n",
    "    database=\"database\",\n",
    "    charset = 'utf8'\n",
    ")\n",
    "if mydb.is_connected():\n",
    "    '''\n",
    "    Check if this table exits. If not, then create a new one.\n",
    "    '''\n",
    "    mycursor = mydb.cursor()\n",
    "    mycursor.execute(\"\"\"\n",
    "        SELECT COUNT(*)\n",
    "        FROM information_schema.tables\n",
    "        WHERE table_name = '{0}'\n",
    "        \"\"\".format(settings.TABLE_NAME))\n",
    "    if mycursor.fetchone()[0] != 1:\n",
    "        mycursor.execute(\"CREATE TABLE {} ({})\".format(settings.TABLE_NAME, settings.TABLE_ATTRIBUTES))\n",
    "        mydb.commit()\n",
    "    mycursor.close()"
   ]
  },
  {
   "cell_type": "code",
   "execution_count": 9,
   "metadata": {},
   "outputs": [],
   "source": [
    "auth  = tweepy.OAuthHandler(credentials.API_KEY, credentials.API_SECRET_KEY)\n",
    "auth.set_access_token(credentials.ACCESS_TOEKN, credentials.ACCESS_TOKEN_SECRET)\n",
    "api = tweepy.API(auth)"
   ]
  },
  {
   "cell_type": "code",
   "execution_count": null,
   "metadata": {},
   "outputs": [],
   "source": [
    "myStreamListener = MyStreamListener()\n",
    "myStream = tweepy.Stream(auth = api.auth, listener = myStreamListener)\n",
    "myStream.filter(languages=[\"en\"], track = settings.TRACK_WORDS)\n",
    "\n",
    "mydb.close()"
   ]
  },
  {
   "cell_type": "code",
   "execution_count": null,
   "metadata": {},
   "outputs": [],
   "source": [
    "mydb.close()"
   ]
  },
  {
   "cell_type": "code",
   "execution_count": 15,
   "metadata": {
    "scrolled": true
   },
   "outputs": [
    {
     "data": {
      "text/plain": [
       "<mysql.connector.connection.MySQLConnection at 0x7fb9be3f3150>"
      ]
     },
     "execution_count": 15,
     "metadata": {},
     "output_type": "execute_result"
    }
   ],
   "source": [
    "mydb"
   ]
  },
  {
   "cell_type": "code",
   "execution_count": 16,
   "metadata": {},
   "outputs": [],
   "source": [
    "db_connection = mysql.connector.connect(\n",
    "    host=\"localhost\", #127.0.0.1\n",
    "    user=\"user\",\n",
    "    passwd=\"password\",\n",
    "    database=\"database\",\n",
    "    charset = 'utf8'\n",
    ")"
   ]
  },
  {
   "cell_type": "code",
   "execution_count": 17,
   "metadata": {},
   "outputs": [
    {
     "data": {
      "text/plain": [
       "<mysql.connector.connection.MySQLConnection at 0x7fb9bd9f5610>"
      ]
     },
     "execution_count": 17,
     "metadata": {},
     "output_type": "execute_result"
    }
   ],
   "source": [
    "db_connection"
   ]
  },
  {
   "cell_type": "code",
   "execution_count": 18,
   "metadata": {},
   "outputs": [],
   "source": [
    "df = pd.read_sql('SELECT id_str, text, created_at, polarity, user_location FROM {}'.format(settings.TABLE_NAME), con=db_connection)"
   ]
  },
  {
   "cell_type": "code",
   "execution_count": 19,
   "metadata": {},
   "outputs": [
    {
     "data": {
      "text/html": [
       "<div>\n",
       "<style scoped>\n",
       "    .dataframe tbody tr th:only-of-type {\n",
       "        vertical-align: middle;\n",
       "    }\n",
       "\n",
       "    .dataframe tbody tr th {\n",
       "        vertical-align: top;\n",
       "    }\n",
       "\n",
       "    .dataframe thead th {\n",
       "        text-align: right;\n",
       "    }\n",
       "</style>\n",
       "<table border=\"1\" class=\"dataframe\">\n",
       "  <thead>\n",
       "    <tr style=\"text-align: right;\">\n",
       "      <th></th>\n",
       "      <th>id_str</th>\n",
       "      <th>text</th>\n",
       "      <th>created_at</th>\n",
       "      <th>polarity</th>\n",
       "      <th>user_location</th>\n",
       "    </tr>\n",
       "  </thead>\n",
       "  <tbody>\n",
       "    <tr>\n",
       "      <td>0</td>\n",
       "      <td>1333670422106304512</td>\n",
       "      <td>RT @bioethicsdotcom: Absolutely Remarkable: No...</td>\n",
       "      <td>2020-12-01 07:13:01</td>\n",
       "      <td>0</td>\n",
       "      <td>Madrid, Spain</td>\n",
       "    </tr>\n",
       "    <tr>\n",
       "      <td>1</td>\n",
       "      <td>1333670422135644162</td>\n",
       "      <td>RT @BTSFanQuiz: The fifth track of the BE albu...</td>\n",
       "      <td>2020-12-01 07:13:01</td>\n",
       "      <td>0</td>\n",
       "      <td>Albania</td>\n",
       "    </tr>\n",
       "    <tr>\n",
       "      <td>2</td>\n",
       "      <td>1333670422299152387</td>\n",
       "      <td>RT @KailashChandOBE: Dear @RishiSunak ,\\nCorre...</td>\n",
       "      <td>2020-12-01 07:13:01</td>\n",
       "      <td>0</td>\n",
       "      <td>Ross-on-Wye, England</td>\n",
       "    </tr>\n",
       "    <tr>\n",
       "      <td>3</td>\n",
       "      <td>1333670422508924928</td>\n",
       "      <td>RT @EmilyThornberry: Deeply moving report on P...</td>\n",
       "      <td>2020-12-01 07:13:01</td>\n",
       "      <td>0</td>\n",
       "      <td>None</td>\n",
       "    </tr>\n",
       "    <tr>\n",
       "      <td>4</td>\n",
       "      <td>1333670422529912833</td>\n",
       "      <td>RT @thebradfordfile: Even CNN is now admitting...</td>\n",
       "      <td>2020-12-01 07:13:01</td>\n",
       "      <td>0</td>\n",
       "      <td>None</td>\n",
       "    </tr>\n",
       "    <tr>\n",
       "      <td>...</td>\n",
       "      <td>...</td>\n",
       "      <td>...</td>\n",
       "      <td>...</td>\n",
       "      <td>...</td>\n",
       "      <td>...</td>\n",
       "    </tr>\n",
       "    <tr>\n",
       "      <td>19358</td>\n",
       "      <td>1333906648411344897</td>\n",
       "      <td>RT @kheti_thegreat: Covid has taught me three ...</td>\n",
       "      <td>2020-12-01 22:51:42</td>\n",
       "      <td>-1</td>\n",
       "      <td>On My Way...</td>\n",
       "    </tr>\n",
       "    <tr>\n",
       "      <td>19359</td>\n",
       "      <td>1333906648541274113</td>\n",
       "      <td>RT @Milhouse_Van_Ho: Canada - The average age ...</td>\n",
       "      <td>2020-12-01 22:51:42</td>\n",
       "      <td>0</td>\n",
       "      <td>Langley, BC, Canada</td>\n",
       "    </tr>\n",
       "    <tr>\n",
       "      <td>19360</td>\n",
       "      <td>1333906648700620800</td>\n",
       "      <td>RT @AlexBerenson: How COVID ruined my life - f...</td>\n",
       "      <td>2020-12-01 22:51:42</td>\n",
       "      <td>0</td>\n",
       "      <td>None</td>\n",
       "    </tr>\n",
       "    <tr>\n",
       "      <td>19361</td>\n",
       "      <td>1333906648801435651</td>\n",
       "      <td>RT @campbellclaret: A reminder that the people...</td>\n",
       "      <td>2020-12-01 22:51:42</td>\n",
       "      <td>0</td>\n",
       "      <td>Cheshire.UK</td>\n",
       "    </tr>\n",
       "    <tr>\n",
       "      <td>19362</td>\n",
       "      <td>1333906649099231232</td>\n",
       "      <td>RT @NBCPhiladelphia: CDC Panel Says Health Wor...</td>\n",
       "      <td>2020-12-01 22:51:42</td>\n",
       "      <td>0</td>\n",
       "      <td>randy.gyllenhaal@nbcuni.com</td>\n",
       "    </tr>\n",
       "  </tbody>\n",
       "</table>\n",
       "<p>19363 rows × 5 columns</p>\n",
       "</div>"
      ],
      "text/plain": [
       "                    id_str                                               text  \\\n",
       "0      1333670422106304512  RT @bioethicsdotcom: Absolutely Remarkable: No...   \n",
       "1      1333670422135644162  RT @BTSFanQuiz: The fifth track of the BE albu...   \n",
       "2      1333670422299152387  RT @KailashChandOBE: Dear @RishiSunak ,\\nCorre...   \n",
       "3      1333670422508924928  RT @EmilyThornberry: Deeply moving report on P...   \n",
       "4      1333670422529912833  RT @thebradfordfile: Even CNN is now admitting...   \n",
       "...                    ...                                                ...   \n",
       "19358  1333906648411344897  RT @kheti_thegreat: Covid has taught me three ...   \n",
       "19359  1333906648541274113  RT @Milhouse_Van_Ho: Canada - The average age ...   \n",
       "19360  1333906648700620800  RT @AlexBerenson: How COVID ruined my life - f...   \n",
       "19361  1333906648801435651  RT @campbellclaret: A reminder that the people...   \n",
       "19362  1333906649099231232  RT @NBCPhiladelphia: CDC Panel Says Health Wor...   \n",
       "\n",
       "               created_at  polarity                user_location  \n",
       "0     2020-12-01 07:13:01         0                Madrid, Spain  \n",
       "1     2020-12-01 07:13:01         0                      Albania  \n",
       "2     2020-12-01 07:13:01         0         Ross-on-Wye, England  \n",
       "3     2020-12-01 07:13:01         0                         None  \n",
       "4     2020-12-01 07:13:01         0                         None  \n",
       "...                   ...       ...                          ...  \n",
       "19358 2020-12-01 22:51:42        -1                 On My Way...  \n",
       "19359 2020-12-01 22:51:42         0          Langley, BC, Canada  \n",
       "19360 2020-12-01 22:51:42         0                         None  \n",
       "19361 2020-12-01 22:51:42         0                  Cheshire.UK  \n",
       "19362 2020-12-01 22:51:42         0  randy.gyllenhaal@nbcuni.com  \n",
       "\n",
       "[19363 rows x 5 columns]"
      ]
     },
     "execution_count": 19,
     "metadata": {},
     "output_type": "execute_result"
    }
   ],
   "source": [
    "df #Tweets collected"
   ]
  },
  {
   "cell_type": "code",
   "execution_count": 24,
   "metadata": {},
   "outputs": [],
   "source": [
    "df.to_csv('tweets2020.csv') #export"
   ]
  }
 ],
 "metadata": {
  "kernelspec": {
   "display_name": "Python 3",
   "language": "python",
   "name": "python3"
  },
  "language_info": {
   "codemirror_mode": {
    "name": "ipython",
    "version": 3
   },
   "file_extension": ".py",
   "mimetype": "text/x-python",
   "name": "python",
   "nbconvert_exporter": "python",
   "pygments_lexer": "ipython3",
   "version": "3.7.4"
  }
 },
 "nbformat": 4,
 "nbformat_minor": 2
}
